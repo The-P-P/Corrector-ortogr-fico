{
  "nbformat": 4,
  "nbformat_minor": 0,
  "metadata": {
    "colab": {
      "provenance": [],
      "authorship_tag": "ABX9TyPJ+AEPi3yDjGfWPWUYktXM",
      "include_colab_link": true
    },
    "kernelspec": {
      "name": "python3",
      "display_name": "Python 3"
    },
    "language_info": {
      "name": "python"
    }
  },
  "cells": [
    {
      "cell_type": "markdown",
      "metadata": {
        "id": "view-in-github",
        "colab_type": "text"
      },
      "source": [
        "<a href=\"https://colab.research.google.com/github/The-P-P/Corrector-ortografico/blob/main/Corretor.ipynb\" target=\"_parent\"><img src=\"https://colab.research.google.com/assets/colab-badge.svg\" alt=\"Open In Colab\"/></a>"
      ]
    },
    {
      "cell_type": "code",
      "execution_count": 3,
      "metadata": {
        "colab": {
          "base_uri": "https://localhost:8080/"
        },
        "id": "fulNKsZEMz5G",
        "outputId": "9b7a9242-4a8e-4d8b-a705-5680c6f2d469"
      },
      "outputs": [
        {
          "output_type": "stream",
          "name": "stdout",
          "text": [
            "\n",
            "\n",
            "\n",
            "imagem \n",
            "\n",
            "Temos a seguinte classe que representa um usuário no nosso sistema:\n",
            "\n",
            "java\n",
            "\n",
            "Para salvar um novo usuário, várias validações são feitas, como por exemplo: Ver se o nome só contém letras, [**o CPF só números**] e ver se o usuário possui no mínimo 18 anos. Veja o método que faz essa validação:\n",
            "\n",
            "java \n",
            "\n",
            "Suponha agora que eu tenha outra classe, a classe `Produto`, que contém um atributo nome e eu quero fazer a mesma validação que fiz para o nome do usuário: Ver se só contém letras. E aí? Vou\n"
          ]
        }
      ],
      "source": [
        "with open('artigos.txt', 'r') as f:\n",
        "  artigos = f.read()\n",
        "print(artigos[:500])"
      ]
    },
    {
      "cell_type": "code",
      "source": [
        "import nltk\n",
        "nltk.download('punkt')"
      ],
      "metadata": {
        "colab": {
          "base_uri": "https://localhost:8080/"
        },
        "id": "mMEze_2993gy",
        "outputId": "2b3a55b5-4235-4eaa-89f6-1c9ea256dc98"
      },
      "execution_count": 4,
      "outputs": [
        {
          "output_type": "stream",
          "name": "stderr",
          "text": [
            "[nltk_data] Downloading package punkt to /root/nltk_data...\n",
            "[nltk_data]   Package punkt is already up-to-date!\n"
          ]
        },
        {
          "output_type": "execute_result",
          "data": {
            "text/plain": [
              "True"
            ]
          },
          "metadata": {},
          "execution_count": 4
        }
      ]
    },
    {
      "cell_type": "code",
      "source": [
        "txt_ex = 'ola, tudo bem?'"
      ],
      "metadata": {
        "id": "lsVHyVYq9lsQ"
      },
      "execution_count": 5,
      "outputs": []
    },
    {
      "cell_type": "code",
      "source": [
        "part_words = nltk.tokenize.word_tokenize(txt_ex)\n",
        "part_words"
      ],
      "metadata": {
        "id": "NQL3PJSoNn3b",
        "colab": {
          "base_uri": "https://localhost:8080/"
        },
        "outputId": "8ba5813e-577a-44bb-fbed-0ae1951a4a21"
      },
      "execution_count": 6,
      "outputs": [
        {
          "output_type": "execute_result",
          "data": {
            "text/plain": [
              "['ola', ',', 'tudo', 'bem', '?']"
            ]
          },
          "metadata": {},
          "execution_count": 6
        }
      ]
    },
    {
      "cell_type": "code",
      "source": [
        "def sep_word(list_tokens):\n",
        "    list_word = []\n",
        "    for token in list_tokens:\n",
        "        if token.isalpha():\n",
        "            list_word.append(token)\n",
        "    return list_word\n",
        "\n",
        "sep_word(part_words)"
      ],
      "metadata": {
        "colab": {
          "base_uri": "https://localhost:8080/"
        },
        "id": "xrCFLWrt_FXU",
        "outputId": "f451666e-6948-4875-8f58-ffcfd7b62ebe"
      },
      "execution_count": 7,
      "outputs": [
        {
          "output_type": "execute_result",
          "data": {
            "text/plain": [
              "['ola', 'tudo', 'bem']"
            ]
          },
          "metadata": {},
          "execution_count": 7
        }
      ]
    },
    {
      "cell_type": "code",
      "source": [
        "list_tokens = nltk.tokenize.word_tokenize(artigos)\n",
        "list_word = sep_word(list_tokens)\n",
        "print('o numero de palavra eh: ', len(list_word))"
      ],
      "metadata": {
        "colab": {
          "base_uri": "https://localhost:8080/"
        },
        "id": "-L1jt6opBomp",
        "outputId": "b3d20059-6cc2-4630-bda7-63d224998d82"
      },
      "execution_count": 10,
      "outputs": [
        {
          "output_type": "stream",
          "name": "stdout",
          "text": [
            "o numero de palavra eh:  403031\n"
          ]
        }
      ]
    },
    {
      "cell_type": "code",
      "source": [
        "def normalization(list_word):\n",
        "  list_normalization = []\n",
        "  for word in list_word:\n",
        "    list_normalization.append(word.lower())\n",
        "  return list_normalization\n",
        "\n",
        "list_normie = normalization(list_word)\n",
        "print(list_normie[:500])"
      ],
      "metadata": {
        "colab": {
          "base_uri": "https://localhost:8080/"
        },
        "id": "jO3sU-iiHUb5",
        "outputId": "a262eff7-bba7-4ecc-a98b-68874f303e21"
      },
      "execution_count": 17,
      "outputs": [
        {
          "output_type": "stream",
          "name": "stdout",
          "text": [
            "['imagem', 'temos', 'a', 'seguinte', 'classe', 'que', 'representa', 'um', 'usuário', 'no', 'nosso', 'sistema', 'java', 'para', 'salvar', 'um', 'novo', 'usuário', 'várias', 'validações', 'são', 'feitas', 'como', 'por', 'exemplo', 'ver', 'se', 'o', 'nome', 'só', 'contém', 'letras', 'o', 'cpf', 'só', 'números', 'e', 'ver', 'se', 'o', 'usuário', 'possui', 'no', 'mínimo', 'anos', 'veja', 'o', 'método', 'que', 'faz', 'essa', 'validação', 'java', 'suponha', 'agora', 'que', 'eu', 'tenha', 'outra', 'classe', 'a', 'classe', 'produto', 'que', 'contém', 'um', 'atributo', 'nome', 'e', 'eu', 'quero', 'fazer', 'a', 'mesma', 'validação', 'que', 'fiz', 'para', 'o', 'nome', 'do', 'usuário', 'ver', 'se', 'só', 'contém', 'letras', 'e', 'aí', 'vou', 'criar', 'outro', 'método', 'para', 'fazer', 'a', 'mesma', 'validação', 'ou', 'criar', 'uma', 'interface', 'ou', 'uma', 'classe', 'que', 'tanto', 'usuario', 'quanto', 'produto', 'estendem', 'não', 'faz', 'muito', 'sentido', 'né', 'como', 'resolver', 'esse', 'caso', 'sem', 'repetir', 'código', 'anotações', 'no', 'java', 'um', 'novo', 'recurso', 'foi', 'introduzido', 'à', 'linguagem', 'as', 'anotações', 'elas', 'permitem', 'que', 'metadados', 'sejam', 'escritos', 'diretamente', 'no', 'código', 'metadados', 'são', 'por', 'definição', 'dados', 'que', 'fazem', 'referência', 'aos', 'próprios', 'dados', 'para', 'nos', 'ajudar', 'a', 'entender', 'o', 'conceito', 'de', 'metadados', 'vou', 'usar', 'a', 'definição', 'feita', 'pelo', 'autor', 'eduardo', 'guerra', 'no', 'livro', 'componentes', 'reutilizáveis', 'em', 'java', 'com', 'reflexão', 'e', 'anotações', 'contexto', 'da', 'orientação', 'a', 'objetos', 'os', 'metadados', 'são', 'informações', 'sobre', 'do', 'código', 'essas', 'informações', 'podem', 'ser', 'definidas', 'em', 'qualquer', 'meio', 'que', 'o', 'software', 'ou', 'componente', 'as', 'recupere', 'e', 'as', 'utilize', 'para', 'agregar', 'nos', 'elementos', 'do', 'código', 'perceba', 'que', 'por', 'si', 'só', 'anotações', 'não', 'fazem', 'nada', 'elas', 'precisam', 'que', 'a', 'aplicação', 'as', 'recupere', 'e', 'as', 'utilize', 'para', 'que', 'só', 'assim', 'elas', 'consigam', 'nos', 'fornecer', 'algo', 'que', 'possamos', 'usar', 'para', 'realizar', 'alguma', 'tarefa', 'voltando', 'ao', 'nosso', 'problema', 'vamos', 'criar', 'uma', 'anotação', 'para', 'validar', 'a', 'idade', 'mínina', 'do', 'usuário', 'para', 'isso', 'vamos', 'anotar', 'nossa', 'classe', 'java', 'se', 'olharmos', 'nosso', 'código', 'perceberemos', 'que', 'ele', 'não', 'compila', 'pois', 'falta', 'implementarmos', 'a', 'anotação', 'idademinina', 'logo', 'precisamos', 'criar', 'uma', 'nova', 'classe', 'com', 'o', 'nome', 'idademinima', 'java', 'mas', 'pensando', 'bem', 'estamos', 'criando', 'uma', 'classe', 'não', 'estamos', 'portanto', 'a', 'nomenclatura', 'é', 'diferente', 'para', 'uma', 'anotação', 'a', 'forma', 'correta', 'seria', 'java', 'estranho', 'né', 'mas', 'foi', 'o', 'jeito', 'que', 'o', 'pessoal', 'do', 'java', 'fez', 'para', 'falar', 'que', 'esse', 'arquivo', 'se', 'trata', 'de', 'uma', 'anotação', 'agora', 'temos', 'que', 'anotar', 'nossa', 'interface', 'com', 'algumas', 'anotações', 'obrigatórias', 'para', 'que', 'o', 'java', 'entenda', 'onde', 'e', 'quando', 'sua', 'anotação', 'pode', 'ser', 'utilizada', 'sendo', 'elas', 'retention', 'aqui', 'nós', 'falaremos', 'para', 'a', 'nossa', 'aplicação', 'até', 'quando', 'nossa', 'anotação', 'estará', 'disponível', 'target', 'aqui', 'passaremos', 'os', 'elementos', 'que', 'podem', 'ser', 'anotados', 'com', 'essa', 'anotação', 'até', 'onde', 'nossa', 'anotação', 'estará', 'disponível', 'precisamos', 'que', 'ela', 'seja', 'executada', 'quando', 'o', 'usuário', 'enviar', 'os', 'seus', 'dados', 'e', 'isso', 'acontece', 'quando', 'nossa', 'aplicação', 'está', 'rodando', 'logo', 'precisamos', 'dela', 'em', 'tempo', 'de', 'execução', 'java', 'e', 'quem', 'será', 'anotado', 'que', 'elemento', 'faz', 'sentido', 'ser', 'anotado', 'com', 'uma', 'anotação', 'que', 'verifica', 'se', 'o', 'usuário', 'tem', 'idade', 'suficiente', 'um', 'atributo', 'certo', 'logo', 'um', 'java', 'agora', 'que', 'já', 'especificamos', 'o', 'contexto', 'da', 'nossa', 'anotação', 'precisamos', 'falar', 'qual', 'a', 'idade', 'mínima', 'que', 'a', 'nossa', 'anotação', 'deve', 'usar', 'para', 'validar', 'a', 'idade', 'do', 'usuário', 'para', 'isso', 'vamos', 'criar', 'uma', 'propriedade', 'na', 'nossa', 'anotação', 'chamada', 'valor', 'java', 'nossa', 'anotação', 'está']\n"
          ]
        }
      ]
    },
    {
      "cell_type": "code",
      "source": [
        "len(set(list_normie))"
      ],
      "metadata": {
        "colab": {
          "base_uri": "https://localhost:8080/"
        },
        "id": "-gA3h1KwZBjc",
        "outputId": "4331375a-b7d4-4691-84ef-501ae4bf6431"
      },
      "execution_count": 18,
      "outputs": [
        {
          "output_type": "execute_result",
          "data": {
            "text/plain": [
              "18464"
            ]
          },
          "metadata": {},
          "execution_count": 18
        }
      ]
    },
    {
      "cell_type": "code",
      "source": [
        "lists = 'lgica' \n",
        "(lists[:1], lists[1:])"
      ],
      "metadata": {
        "colab": {
          "base_uri": "https://localhost:8080/"
        },
        "id": "A5eX0Jolj93I",
        "outputId": "49911ee3-c754-44c9-fe98-71dd6362feeb"
      },
      "execution_count": 23,
      "outputs": [
        {
          "output_type": "execute_result",
          "data": {
            "text/plain": [
              "('l', 'gica')"
            ]
          },
          "metadata": {},
          "execution_count": 23
        }
      ]
    },
    {
      "cell_type": "code",
      "source": [
        "word_ex = 'lgica'\n",
        "def generator_word(word):\n",
        "  slices = []\n",
        "  for i in range(len(word)+1):\n",
        "    slices.append((lists[:i], lists[i:]))\n",
        "  print(slices)\n",
        "  #generated_words = insert_letters(slices)\n",
        "  #return generated_words\n",
        "generator_word(word_ex)"
      ],
      "metadata": {
        "colab": {
          "base_uri": "https://localhost:8080/"
        },
        "id": "JZr_I0rKbL0K",
        "outputId": "86e0f9b4-04b7-420f-a023-4919e01db8fd"
      },
      "execution_count": 26,
      "outputs": [
        {
          "output_type": "stream",
          "name": "stdout",
          "text": [
            "[('', 'lgica'), ('l', 'gica'), ('lg', 'ica'), ('lgi', 'ca'), ('lgic', 'a'), ('lgica', '')]\n"
          ]
        }
      ]
    },
    {
      "cell_type": "code",
      "source": [
        "word_ex = 'lgica'\n",
        "\n",
        "def insert_letters(slices):\n",
        "  new_words = []\n",
        "  littlers = 'abcdefghijklmnopqrstuvwxyzàáâãèéêìíîòóôõùúûç'\n",
        "  for E, D in slices:\n",
        "    for littler in  littlers:\n",
        "      new_words.append(E + littler + D)\n",
        "  return new_words\n",
        "\n",
        "def generator_word(word):\n",
        "  slices = []\n",
        "  for i in range(len(word)+1):\n",
        "    slices.append((word[:i], word[i:]))\n",
        "  generated_words = insert_letters(slices)\n",
        "  return generated_words\n",
        "\n",
        "generated_word = generator_word(word_ex)\n",
        "generated_word"
      ],
      "metadata": {
        "id": "phDn0poyjpqi"
      },
      "execution_count": null,
      "outputs": []
    },
    {
      "cell_type": "code",
      "source": [
        "def corrector(word):\n",
        "  generator_word = generated_words(word)\n",
        "  word_correct = max(generated_words, key=odds )\n",
        "  return word_correct"
      ],
      "metadata": {
        "id": "zInzQMtXnfF0"
      },
      "execution_count": null,
      "outputs": []
    },
    {
      "cell_type": "code",
      "source": [
        "frequency = nltk.FreqDist(list_normie)\n",
        "total_words = len(list_normie)\n",
        "frequency.most_common(10)"
      ],
      "metadata": {
        "colab": {
          "base_uri": "https://localhost:8080/"
        },
        "id": "eS4Ml075sfKn",
        "outputId": "1dc9942f-d0ec-4ba2-a96c-a893624cf5a9"
      },
      "execution_count": 29,
      "outputs": [
        {
          "output_type": "execute_result",
          "data": {
            "text/plain": [
              "[('de', 15502),\n",
              " ('o', 14056),\n",
              " ('que', 12230),\n",
              " ('a', 11099),\n",
              " ('e', 10501),\n",
              " ('para', 7710),\n",
              " ('um', 6367),\n",
              " ('é', 5899),\n",
              " ('uma', 5220),\n",
              " ('do', 5124)]"
            ]
          },
          "metadata": {},
          "execution_count": 29
        }
      ]
    },
    {
      "cell_type": "code",
      "source": [
        "frequency['valor']"
      ],
      "metadata": {
        "colab": {
          "base_uri": "https://localhost:8080/"
        },
        "id": "kcSs-qmjtKXw",
        "outputId": "a26b3479-e4a5-4b0e-ee32-a745760ef472"
      },
      "execution_count": 31,
      "outputs": [
        {
          "output_type": "execute_result",
          "data": {
            "text/plain": [
              "580"
            ]
          },
          "metadata": {},
          "execution_count": 31
        }
      ]
    },
    {
      "cell_type": "code",
      "source": [],
      "metadata": {
        "id": "PeOybJw_t4Wr"
      },
      "execution_count": 32,
      "outputs": []
    },
    {
      "cell_type": "code",
      "source": [
        "def odds(generated_words):\n",
        "  return frequency[generated_words]/total_words\n",
        "\n",
        "odds('logica')"
      ],
      "metadata": {
        "colab": {
          "base_uri": "https://localhost:8080/"
        },
        "id": "9joR5WkgtQdg",
        "outputId": "4350db4d-1813-4922-8814-5aff99bcfd99"
      },
      "execution_count": 36,
      "outputs": [
        {
          "output_type": "execute_result",
          "data": {
            "text/plain": [
              "0.0"
            ]
          },
          "metadata": {},
          "execution_count": 36
        }
      ]
    },
    {
      "cell_type": "code",
      "source": [],
      "metadata": {
        "id": "iulw_jjDucRC"
      },
      "execution_count": null,
      "outputs": []
    }
  ]
}