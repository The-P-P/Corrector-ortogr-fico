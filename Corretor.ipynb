{
  "nbformat": 4,
  "nbformat_minor": 0,
  "metadata": {
    "colab": {
      "provenance": [],
      "authorship_tag": "ABX9TyNUhefaC/iyYumddjh3yqv+",
      "include_colab_link": true
    },
    "kernelspec": {
      "name": "python3",
      "display_name": "Python 3"
    },
    "language_info": {
      "name": "python"
    }
  },
  "cells": [
    {
      "cell_type": "markdown",
      "metadata": {
        "id": "view-in-github",
        "colab_type": "text"
      },
      "source": [
        "<a href=\"https://colab.research.google.com/github/The-P-P/Corrector-ortografico/blob/main/Corretor.ipynb\" target=\"_parent\"><img src=\"https://colab.research.google.com/assets/colab-badge.svg\" alt=\"Open In Colab\"/></a>"
      ]
    },
    {
      "cell_type": "code",
      "execution_count": null,
      "metadata": {
        "id": "fulNKsZEMz5G",
        "colab": {
          "base_uri": "https://localhost:8080/"
        },
        "outputId": "a7b18182-c32d-4ab5-a4f9-bda17066d4c5"
      },
      "outputs": [
        {
          "output_type": "stream",
          "name": "stdout",
          "text": [
            "\n",
            "\n",
            "\n",
            "imagem \n",
            "\n",
            "Temos a seguinte classe que representa um usuário no nosso sistema:\n",
            "\n",
            "java\n",
            "\n",
            "Para salvar um novo usuário, várias validações são feitas, como por exemplo: Ver se o nome só contém letras, [**o CPF só números**] e ver se o usuário possui no mínimo 18 anos. Veja o método que faz essa validação:\n",
            "\n",
            "java \n",
            "\n",
            "Suponha agora que eu tenha outra classe, a classe `Produto`, que contém um atributo nome e eu quero fazer a mesma validação que fiz para o nome do usuário: Ver se só contém letras. E aí? Vou\n"
          ]
        }
      ],
      "source": [
        "with open('artigos.txt', 'r') as f:\n",
        "  artigos = f.read()\n",
        "print(artigos[:500])"
      ]
    },
    {
      "cell_type": "code",
      "source": [
        "import nltk\n",
        "nltk.download('punkt')"
      ],
      "metadata": {
        "id": "mMEze_2993gy",
        "colab": {
          "base_uri": "https://localhost:8080/"
        },
        "outputId": "d5bf199b-ad93-4de0-ff10-e0c49bf48910"
      },
      "execution_count": null,
      "outputs": [
        {
          "output_type": "stream",
          "name": "stderr",
          "text": [
            "[nltk_data] Downloading package punkt to /root/nltk_data...\n",
            "[nltk_data]   Package punkt is already up-to-date!\n"
          ]
        },
        {
          "output_type": "execute_result",
          "data": {
            "text/plain": [
              "True"
            ]
          },
          "metadata": {},
          "execution_count": 12
        }
      ]
    },
    {
      "cell_type": "code",
      "source": [
        "txt_ex = 'ola, tudo bem?'"
      ],
      "metadata": {
        "id": "lsVHyVYq9lsQ"
      },
      "execution_count": null,
      "outputs": []
    },
    {
      "cell_type": "code",
      "source": [
        "part_words = nltk.tokenize.word_tokenize(txt_ex)\n",
        "part_words"
      ],
      "metadata": {
        "id": "NQL3PJSoNn3b",
        "colab": {
          "base_uri": "https://localhost:8080/"
        },
        "outputId": "f7ac9d7b-77b2-4ebe-cb84-5a9c20ca30f4"
      },
      "execution_count": null,
      "outputs": [
        {
          "output_type": "execute_result",
          "data": {
            "text/plain": [
              "['ola', ',', 'tudo', 'bem', '?']"
            ]
          },
          "metadata": {},
          "execution_count": 14
        }
      ]
    },
    {
      "cell_type": "code",
      "source": [
        "def sep_word(list_tokens):\n",
        "    list_word = []\n",
        "    for token in list_tokens:\n",
        "        if token.isalpha():\n",
        "            list_word.append(token)\n",
        "    return list_word\n",
        "\n",
        "sep_word(part_words)"
      ],
      "metadata": {
        "id": "xrCFLWrt_FXU",
        "colab": {
          "base_uri": "https://localhost:8080/"
        },
        "outputId": "ab35dd42-d69b-4ffa-a078-0654ee831090"
      },
      "execution_count": null,
      "outputs": [
        {
          "output_type": "execute_result",
          "data": {
            "text/plain": [
              "['ola', 'tudo', 'bem']"
            ]
          },
          "metadata": {},
          "execution_count": 15
        }
      ]
    },
    {
      "cell_type": "code",
      "source": [
        "list_tokens = nltk.tokenize.word_tokenize(artigos)\n",
        "list_word = sep_word(list_tokens)\n",
        "print('o numero de palavra eh: ', len(list_word))"
      ],
      "metadata": {
        "id": "-L1jt6opBomp",
        "colab": {
          "base_uri": "https://localhost:8080/"
        },
        "outputId": "dd866b6a-07cc-452e-bf79-0c19c8c011b1"
      },
      "execution_count": null,
      "outputs": [
        {
          "output_type": "stream",
          "name": "stdout",
          "text": [
            "o numero de palavra eh:  403031\n"
          ]
        }
      ]
    },
    {
      "cell_type": "code",
      "source": [
        "def normalization(list_word):\n",
        "  list_normalization = []\n",
        "  for word in list_word:\n",
        "    list_normalization.append(word.lower())\n",
        "  return list_normalization\n",
        "\n",
        "list_normie = normalization(list_word)\n",
        "print(list_normie[:500])"
      ],
      "metadata": {
        "id": "jO3sU-iiHUb5",
        "colab": {
          "base_uri": "https://localhost:8080/"
        },
        "outputId": "eaa98203-2cb6-4b90-fabe-59eff34d8236"
      },
      "execution_count": null,
      "outputs": [
        {
          "output_type": "stream",
          "name": "stdout",
          "text": [
            "['imagem', 'temos', 'a', 'seguinte', 'classe', 'que', 'representa', 'um', 'usuário', 'no', 'nosso', 'sistema', 'java', 'para', 'salvar', 'um', 'novo', 'usuário', 'várias', 'validações', 'são', 'feitas', 'como', 'por', 'exemplo', 'ver', 'se', 'o', 'nome', 'só', 'contém', 'letras', 'o', 'cpf', 'só', 'números', 'e', 'ver', 'se', 'o', 'usuário', 'possui', 'no', 'mínimo', 'anos', 'veja', 'o', 'método', 'que', 'faz', 'essa', 'validação', 'java', 'suponha', 'agora', 'que', 'eu', 'tenha', 'outra', 'classe', 'a', 'classe', 'produto', 'que', 'contém', 'um', 'atributo', 'nome', 'e', 'eu', 'quero', 'fazer', 'a', 'mesma', 'validação', 'que', 'fiz', 'para', 'o', 'nome', 'do', 'usuário', 'ver', 'se', 'só', 'contém', 'letras', 'e', 'aí', 'vou', 'criar', 'outro', 'método', 'para', 'fazer', 'a', 'mesma', 'validação', 'ou', 'criar', 'uma', 'interface', 'ou', 'uma', 'classe', 'que', 'tanto', 'usuario', 'quanto', 'produto', 'estendem', 'não', 'faz', 'muito', 'sentido', 'né', 'como', 'resolver', 'esse', 'caso', 'sem', 'repetir', 'código', 'anotações', 'no', 'java', 'um', 'novo', 'recurso', 'foi', 'introduzido', 'à', 'linguagem', 'as', 'anotações', 'elas', 'permitem', 'que', 'metadados', 'sejam', 'escritos', 'diretamente', 'no', 'código', 'metadados', 'são', 'por', 'definição', 'dados', 'que', 'fazem', 'referência', 'aos', 'próprios', 'dados', 'para', 'nos', 'ajudar', 'a', 'entender', 'o', 'conceito', 'de', 'metadados', 'vou', 'usar', 'a', 'definição', 'feita', 'pelo', 'autor', 'eduardo', 'guerra', 'no', 'livro', 'componentes', 'reutilizáveis', 'em', 'java', 'com', 'reflexão', 'e', 'anotações', 'contexto', 'da', 'orientação', 'a', 'objetos', 'os', 'metadados', 'são', 'informações', 'sobre', 'do', 'código', 'essas', 'informações', 'podem', 'ser', 'definidas', 'em', 'qualquer', 'meio', 'que', 'o', 'software', 'ou', 'componente', 'as', 'recupere', 'e', 'as', 'utilize', 'para', 'agregar', 'nos', 'elementos', 'do', 'código', 'perceba', 'que', 'por', 'si', 'só', 'anotações', 'não', 'fazem', 'nada', 'elas', 'precisam', 'que', 'a', 'aplicação', 'as', 'recupere', 'e', 'as', 'utilize', 'para', 'que', 'só', 'assim', 'elas', 'consigam', 'nos', 'fornecer', 'algo', 'que', 'possamos', 'usar', 'para', 'realizar', 'alguma', 'tarefa', 'voltando', 'ao', 'nosso', 'problema', 'vamos', 'criar', 'uma', 'anotação', 'para', 'validar', 'a', 'idade', 'mínina', 'do', 'usuário', 'para', 'isso', 'vamos', 'anotar', 'nossa', 'classe', 'java', 'se', 'olharmos', 'nosso', 'código', 'perceberemos', 'que', 'ele', 'não', 'compila', 'pois', 'falta', 'implementarmos', 'a', 'anotação', 'idademinina', 'logo', 'precisamos', 'criar', 'uma', 'nova', 'classe', 'com', 'o', 'nome', 'idademinima', 'java', 'mas', 'pensando', 'bem', 'estamos', 'criando', 'uma', 'classe', 'não', 'estamos', 'portanto', 'a', 'nomenclatura', 'é', 'diferente', 'para', 'uma', 'anotação', 'a', 'forma', 'correta', 'seria', 'java', 'estranho', 'né', 'mas', 'foi', 'o', 'jeito', 'que', 'o', 'pessoal', 'do', 'java', 'fez', 'para', 'falar', 'que', 'esse', 'arquivo', 'se', 'trata', 'de', 'uma', 'anotação', 'agora', 'temos', 'que', 'anotar', 'nossa', 'interface', 'com', 'algumas', 'anotações', 'obrigatórias', 'para', 'que', 'o', 'java', 'entenda', 'onde', 'e', 'quando', 'sua', 'anotação', 'pode', 'ser', 'utilizada', 'sendo', 'elas', 'retention', 'aqui', 'nós', 'falaremos', 'para', 'a', 'nossa', 'aplicação', 'até', 'quando', 'nossa', 'anotação', 'estará', 'disponível', 'target', 'aqui', 'passaremos', 'os', 'elementos', 'que', 'podem', 'ser', 'anotados', 'com', 'essa', 'anotação', 'até', 'onde', 'nossa', 'anotação', 'estará', 'disponível', 'precisamos', 'que', 'ela', 'seja', 'executada', 'quando', 'o', 'usuário', 'enviar', 'os', 'seus', 'dados', 'e', 'isso', 'acontece', 'quando', 'nossa', 'aplicação', 'está', 'rodando', 'logo', 'precisamos', 'dela', 'em', 'tempo', 'de', 'execução', 'java', 'e', 'quem', 'será', 'anotado', 'que', 'elemento', 'faz', 'sentido', 'ser', 'anotado', 'com', 'uma', 'anotação', 'que', 'verifica', 'se', 'o', 'usuário', 'tem', 'idade', 'suficiente', 'um', 'atributo', 'certo', 'logo', 'um', 'java', 'agora', 'que', 'já', 'especificamos', 'o', 'contexto', 'da', 'nossa', 'anotação', 'precisamos', 'falar', 'qual', 'a', 'idade', 'mínima', 'que', 'a', 'nossa', 'anotação', 'deve', 'usar', 'para', 'validar', 'a', 'idade', 'do', 'usuário', 'para', 'isso', 'vamos', 'criar', 'uma', 'propriedade', 'na', 'nossa', 'anotação', 'chamada', 'valor', 'java', 'nossa', 'anotação', 'está']\n"
          ]
        }
      ]
    },
    {
      "cell_type": "code",
      "source": [
        "len(set(list_normie))"
      ],
      "metadata": {
        "id": "-gA3h1KwZBjc",
        "colab": {
          "base_uri": "https://localhost:8080/"
        },
        "outputId": "bacf0498-3230-47a8-98c2-90b2a74ca094"
      },
      "execution_count": null,
      "outputs": [
        {
          "output_type": "execute_result",
          "data": {
            "text/plain": [
              "18464"
            ]
          },
          "metadata": {},
          "execution_count": 18
        }
      ]
    },
    {
      "cell_type": "code",
      "source": [
        "def corrector(word):\n",
        "  generated_words = generator_word(word)\n",
        "  word_correct = max(generated_words, key=odds)\n",
        "  return word_correct"
      ],
      "metadata": {
        "id": "zInzQMtXnfF0"
      },
      "execution_count": null,
      "outputs": []
    },
    {
      "cell_type": "code",
      "source": [
        "frequency = nltk.FreqDist(list_normie)\n",
        "total_words = len(list_normie)\n",
        "frequency.most_common(10)"
      ],
      "metadata": {
        "id": "eS4Ml075sfKn",
        "colab": {
          "base_uri": "https://localhost:8080/"
        },
        "outputId": "4e53ef38-207f-4257-980e-186f831e8f59"
      },
      "execution_count": null,
      "outputs": [
        {
          "output_type": "execute_result",
          "data": {
            "text/plain": [
              "[('de', 15502),\n",
              " ('o', 14056),\n",
              " ('que', 12230),\n",
              " ('a', 11099),\n",
              " ('e', 10501),\n",
              " ('para', 7710),\n",
              " ('um', 6367),\n",
              " ('é', 5899),\n",
              " ('uma', 5220),\n",
              " ('do', 5124)]"
            ]
          },
          "metadata": {},
          "execution_count": 20
        }
      ]
    },
    {
      "cell_type": "code",
      "source": [
        "frequency['valor']"
      ],
      "metadata": {
        "id": "kcSs-qmjtKXw",
        "colab": {
          "base_uri": "https://localhost:8080/"
        },
        "outputId": "d2d57218-2eb3-4940-8912-0e9036247709"
      },
      "execution_count": null,
      "outputs": [
        {
          "output_type": "execute_result",
          "data": {
            "text/plain": [
              "580"
            ]
          },
          "metadata": {},
          "execution_count": 21
        }
      ]
    },
    {
      "cell_type": "code",
      "source": [
        "def odds(generated_words):\n",
        "  return (frequency[generated_words]/total_words)\n",
        "\n",
        "odds('nonca')"
      ],
      "metadata": {
        "id": "9joR5WkgtQdg",
        "colab": {
          "base_uri": "https://localhost:8080/"
        },
        "outputId": "a363f4f2-c03a-4e4a-fd23-aa8a46226bb1"
      },
      "execution_count": null,
      "outputs": [
        {
          "output_type": "execute_result",
          "data": {
            "text/plain": [
              "0.0"
            ]
          },
          "metadata": {},
          "execution_count": 22
        }
      ]
    },
    {
      "cell_type": "code",
      "source": [
        "def create_test_data(nome_arq):\n",
        "  list_word_test = []\n",
        "  f = open(nome_arq, 'r')\n",
        "  for row in f:\n",
        "    correct, wrong = row.split()\n",
        "    list_word_test.append((correct, wrong))\n",
        "  f.close()\n",
        "  return list_word_test\n",
        "\n",
        "list_test = create_test_data('palavras.txt')\n",
        "list_test"
      ],
      "metadata": {
        "id": "pMQOhjZ7zcuo"
      },
      "execution_count": null,
      "outputs": []
    },
    {
      "cell_type": "code",
      "source": [
        "def evaluator(test, wordbook):\n",
        "  n = len(test)\n",
        "  hit = 0\n",
        "  uncharted = 0\n",
        "  for correct, wrong in test:\n",
        "    corrected_word =  corrector(wrong)\n",
        "    if corrected_word == correct:\n",
        "      hit += 1\n",
        "    else:\n",
        "      uncharted += (correct not in wordbook)\n",
        "  rate_hit = round(hit*100/n, 2)\n",
        "  rate_uncharted = round(uncharted*100/n, 2)\n",
        "  print(f'{rate_hit}% de {n} palavras')\n",
        "  print(f'{uncharted}% de {n} palavras')\n",
        "wordbook = set(list_normie)\n",
        "evaluator(list_test, wordbook)"
      ],
      "metadata": {
        "colab": {
          "base_uri": "https://localhost:8080/"
        },
        "id": "KaXvUe1o1z_r",
        "outputId": "f3bd352e-9849-496b-c007-c11cd9b52622"
      },
      "execution_count": null,
      "outputs": [
        {
          "output_type": "stream",
          "name": "stdout",
          "text": [
            "76.34% de 186 palavras\n",
            "13% de 186 palavras\n"
          ]
        }
      ]
    },
    {
      "cell_type": "code",
      "source": [
        "evaluator(list_test)"
      ],
      "metadata": {
        "colab": {
          "base_uri": "https://localhost:8080/"
        },
        "id": "HkCf5WbozmUg",
        "outputId": "4ca1ee4b-16f1-47c9-e6e2-54900117652b"
      },
      "execution_count": null,
      "outputs": [
        {
          "output_type": "stream",
          "name": "stdout",
          "text": [
            "76.34% de 186 palavras\n"
          ]
        }
      ]
    },
    {
      "cell_type": "code",
      "source": [
        "def generator_word(word):\n",
        "  slices = []\n",
        "  for i in range(len(word)+1):\n",
        "    slices.append((word[:i], word[i:]))\n",
        "  generated_words = insert_letters(slices)\n",
        "  generated_words += dell_char(slices)\n",
        "  generated_words += swap_letter(slices)\n",
        "  generated_words += reverse(slices)\n",
        "  return generated_words\n",
        "\n",
        "def insert_letters(slices):\n",
        "  new_words = []\n",
        "  littlers = 'abcdefghijklmnopqrstuvwxyzàáâãèéêìíîòóôõùúûç'\n",
        "  for E, D in slices:\n",
        "    for littler in  littlers:\n",
        "      new_words.append(E + littler + D)\n",
        "  return new_words\n",
        "\n",
        "def dell_char(slices):\n",
        "  new_words = []\n",
        "  for E, D in slices:\n",
        "      new_words.append(E + D[1:])\n",
        "  return new_words\n",
        "\n",
        "def swap_letter(slices):\n",
        "  new_words = []\n",
        "  littlers = 'abcdefghijklmnopqrstuvwxyzàáâãèéêìíîòóôõùúûç'\n",
        "  for E, D in slices:\n",
        "    for littler in  littlers:\n",
        "      new_words.append(E + littler + D[1:])\n",
        "  return new_words\n",
        "\n",
        "def reverse(slices):\n",
        "  new_words = []\n",
        "  for E, D in slices:\n",
        "    if len(D) > 1:\n",
        "      new_words.append(E + D[1] + D[0] + D[2:])\n",
        "  return new_words\n",
        "\n",
        "ex='larnaja'\n",
        "generated_word = generator_word(ex)\n",
        "generated_word"
      ],
      "metadata": {
        "id": "lysmtj850i_F"
      },
      "execution_count": null,
      "outputs": []
    },
    {
      "cell_type": "code",
      "source": [],
      "metadata": {
        "id": "-Rnqm5h1Sr8a"
      },
      "execution_count": null,
      "outputs": []
    }
  ]
}