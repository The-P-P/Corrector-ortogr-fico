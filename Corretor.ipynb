{
  "nbformat": 4,
  "nbformat_minor": 0,
  "metadata": {
    "colab": {
      "provenance": [],
      "authorship_tag": "ABX9TyNR1utC7ULGLuWgl9/fE7P1",
      "include_colab_link": true
    },
    "kernelspec": {
      "name": "python3",
      "display_name": "Python 3"
    },
    "language_info": {
      "name": "python"
    }
  },
  "cells": [
    {
      "cell_type": "markdown",
      "metadata": {
        "id": "view-in-github",
        "colab_type": "text"
      },
      "source": [
        "<a href=\"https://colab.research.google.com/github/The-P-P/Corrector-ortografico/blob/main/Corretor.ipynb\" target=\"_parent\"><img src=\"https://colab.research.google.com/assets/colab-badge.svg\" alt=\"Open In Colab\"/></a>"
      ]
    },
    {
      "cell_type": "code",
      "execution_count": null,
      "metadata": {
        "id": "fulNKsZEMz5G"
      },
      "outputs": [],
      "source": [
        "with open('artigos.txt', 'r') as f:\n",
        "  artigos = f.read()\n",
        "print(artigos[:500])"
      ]
    },
    {
      "cell_type": "code",
      "source": [
        "import nltk\n",
        "nltk.download('punkt')"
      ],
      "metadata": {
        "id": "mMEze_2993gy"
      },
      "execution_count": null,
      "outputs": []
    },
    {
      "cell_type": "code",
      "source": [
        "txt_ex = 'ola, tudo bem?'"
      ],
      "metadata": {
        "id": "lsVHyVYq9lsQ"
      },
      "execution_count": 73,
      "outputs": []
    },
    {
      "cell_type": "code",
      "source": [
        "part_words = nltk.tokenize.word_tokenize(txt_ex)\n",
        "part_words"
      ],
      "metadata": {
        "id": "NQL3PJSoNn3b"
      },
      "execution_count": null,
      "outputs": []
    },
    {
      "cell_type": "code",
      "source": [
        "def sep_word(list_tokens):\n",
        "    list_word = []\n",
        "    for token in list_tokens:\n",
        "        if token.isalpha():\n",
        "            list_word.append(token)\n",
        "    return list_word\n",
        "\n",
        "sep_word(part_words)"
      ],
      "metadata": {
        "id": "xrCFLWrt_FXU"
      },
      "execution_count": null,
      "outputs": []
    },
    {
      "cell_type": "code",
      "source": [
        "list_tokens = nltk.tokenize.word_tokenize(artigos)\n",
        "list_word = sep_word(list_tokens)\n",
        "print('o numero de palavra eh: ', len(list_word))"
      ],
      "metadata": {
        "id": "-L1jt6opBomp"
      },
      "execution_count": null,
      "outputs": []
    },
    {
      "cell_type": "code",
      "source": [
        "def normalization(list_word):\n",
        "  list_normalization = []\n",
        "  for word in list_word:\n",
        "    list_normalization.append(word.lower())\n",
        "  return list_normalization\n",
        "\n",
        "list_normie = normalization(list_word)\n",
        "print(list_normie[:500])"
      ],
      "metadata": {
        "id": "jO3sU-iiHUb5"
      },
      "execution_count": null,
      "outputs": []
    },
    {
      "cell_type": "code",
      "source": [
        "len(set(list_normie))"
      ],
      "metadata": {
        "id": "-gA3h1KwZBjc"
      },
      "execution_count": null,
      "outputs": []
    },
    {
      "cell_type": "code",
      "source": [
        "word_ex = 'lgica'\n",
        "\n",
        "def insert_letters(slices):\n",
        "  new_words = []\n",
        "  littlers = 'abcdefghijklmnopqrstuvwxyzàáâãèéêìíîòóôõùúûç'\n",
        "  for E, D in slices:\n",
        "    for littler in  littlers:\n",
        "      new_words.append(E + littler + D)\n",
        "  return new_words\n",
        "\n",
        "def generator_word(word):\n",
        "  slices = []\n",
        "  for i in range(len(word)+1):\n",
        "    slices.append((word[:i], word[i:]))\n",
        "  generated_words = insert_letters(slices)\n",
        "  return generated_words\n",
        "\n",
        "generated_word = generator_word(word_ex)\n",
        "generated_word"
      ],
      "metadata": {
        "id": "phDn0poyjpqi"
      },
      "execution_count": null,
      "outputs": []
    },
    {
      "cell_type": "code",
      "source": [
        "def corrector(word):\n",
        "  generated_words = generator_word(word)\n",
        "  word_correct = max(generated_words, key=odds)\n",
        "  return word_correct"
      ],
      "metadata": {
        "id": "zInzQMtXnfF0"
      },
      "execution_count": 80,
      "outputs": []
    },
    {
      "cell_type": "code",
      "source": [
        "frequency = nltk.FreqDist(list_normie)\n",
        "total_words = len(list_normie)\n",
        "frequency.most_common(10)"
      ],
      "metadata": {
        "id": "eS4Ml075sfKn"
      },
      "execution_count": null,
      "outputs": []
    },
    {
      "cell_type": "code",
      "source": [
        "frequency['valor']"
      ],
      "metadata": {
        "id": "kcSs-qmjtKXw"
      },
      "execution_count": null,
      "outputs": []
    },
    {
      "cell_type": "code",
      "source": [
        "def odds(generated_words):\n",
        "  return (frequency[generated_words]/total_words)\n",
        "\n",
        "odds('nonca')"
      ],
      "metadata": {
        "id": "9joR5WkgtQdg"
      },
      "execution_count": null,
      "outputs": []
    },
    {
      "cell_type": "code",
      "source": [
        "def create_test_data(nome_arq):\n",
        "  list_word_test = []\n",
        "  f = open(nome_arq, 'r')\n",
        "  for row in f:\n",
        "    correct, wrong = row.split()\n",
        "    list_word_test.append((correct, wrong))\n",
        "  f.close()\n",
        "  return list_word_test\n",
        "\n",
        "list_test = create_test_data('palavras.txt')\n",
        "list_test"
      ],
      "metadata": {
        "id": "pMQOhjZ7zcuo"
      },
      "execution_count": null,
      "outputs": []
    },
    {
      "cell_type": "code",
      "source": [
        "def evaluator(test):\n",
        "  n = len(test)\n",
        "  hit = 0\n",
        "  for correct, wrong in test:\n",
        "    corrected_word =  corrector(wrong)\n",
        "    if corrected_word == correct:\n",
        "      hit += 1\n",
        "  rate_hit = round(hit*100/n, 2)\n",
        "  print(f'{rate_hit}% de {n} palavras')\n",
        "\n",
        "evaluator(list_test)"
      ],
      "metadata": {
        "colab": {
          "base_uri": "https://localhost:8080/"
        },
        "id": "KaXvUe1o1z_r",
        "outputId": "11ccf557-1199-4998-be69-d210aca2e4d2"
      },
      "execution_count": 105,
      "outputs": [
        {
          "output_type": "stream",
          "name": "stdout",
          "text": [
            "1.08% de 186 palavras\n"
          ]
        }
      ]
    },
    {
      "cell_type": "code",
      "source": [],
      "metadata": {
        "id": "2ioH08HN3zLv"
      },
      "execution_count": null,
      "outputs": []
    }
  ]
}