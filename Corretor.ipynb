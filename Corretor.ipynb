{
  "nbformat": 4,
  "nbformat_minor": 0,
  "metadata": {
    "colab": {
      "provenance": [],
      "authorship_tag": "ABX9TyNdjwp7s8KWDf1PvNvZwA90",
      "include_colab_link": true
    },
    "kernelspec": {
      "name": "python3",
      "display_name": "Python 3"
    },
    "language_info": {
      "name": "python"
    }
  },
  "cells": [
    {
      "cell_type": "markdown",
      "metadata": {
        "id": "view-in-github",
        "colab_type": "text"
      },
      "source": [
        "<a href=\"https://colab.research.google.com/github/The-P-P/Corrector-ortografico/blob/main/Corretor.ipynb\" target=\"_parent\"><img src=\"https://colab.research.google.com/assets/colab-badge.svg\" alt=\"Open In Colab\"/></a>"
      ]
    },
    {
      "cell_type": "code",
      "execution_count": 10,
      "metadata": {
        "id": "fulNKsZEMz5G",
        "colab": {
          "base_uri": "https://localhost:8080/"
        },
        "outputId": "0a530880-0362-468b-d089-275c9ea68b26"
      },
      "outputs": [
        {
          "output_type": "stream",
          "name": "stdout",
          "text": [
            "\n",
            "\n",
            "\n",
            "imagem \n",
            "\n",
            "Temos a seguinte classe que representa um usuário no nosso sistema:\n",
            "\n",
            "java\n",
            "\n",
            "Para salvar um novo usuário, várias validações são feitas, como por exemplo: Ver se o nome só contém letras, [**o CPF só números**] e ver se o usuário possui no mínimo 18 anos. Veja o método que faz essa validação:\n",
            "\n",
            "java \n",
            "\n",
            "Suponha agora que eu tenha outra classe, a classe `Produto`, que contém um atributo nome e eu quero fazer a mesma validação que fiz para o nome do usuário: Ver se só contém letras. E aí? Vou\n"
          ]
        }
      ],
      "source": [
        "with open('artigos.txt', 'r') as f:\n",
        "  artigos = f.read()\n",
        "print(artigos[:500])"
      ]
    },
    {
      "cell_type": "code",
      "source": [
        "import nltk\n",
        "nltk.download('punkt')"
      ],
      "metadata": {
        "id": "mMEze_2993gy",
        "colab": {
          "base_uri": "https://localhost:8080/"
        },
        "outputId": "8a370098-0f4b-4b6c-bd22-fb18d6031ffe"
      },
      "execution_count": 11,
      "outputs": [
        {
          "output_type": "stream",
          "name": "stderr",
          "text": [
            "[nltk_data] Downloading package punkt to /root/nltk_data...\n",
            "[nltk_data]   Package punkt is already up-to-date!\n"
          ]
        },
        {
          "output_type": "execute_result",
          "data": {
            "text/plain": [
              "True"
            ]
          },
          "metadata": {},
          "execution_count": 11
        }
      ]
    },
    {
      "cell_type": "code",
      "source": [
        "txt_ex = 'ola, tudo bem?'"
      ],
      "metadata": {
        "id": "lsVHyVYq9lsQ"
      },
      "execution_count": 12,
      "outputs": []
    },
    {
      "cell_type": "code",
      "source": [
        "part_words = nltk.tokenize.word_tokenize(txt_ex)\n",
        "part_words"
      ],
      "metadata": {
        "id": "NQL3PJSoNn3b",
        "colab": {
          "base_uri": "https://localhost:8080/"
        },
        "outputId": "3df51a62-2bea-4cec-faad-50304298b1ff"
      },
      "execution_count": 13,
      "outputs": [
        {
          "output_type": "execute_result",
          "data": {
            "text/plain": [
              "['ola', ',', 'tudo', 'bem', '?']"
            ]
          },
          "metadata": {},
          "execution_count": 13
        }
      ]
    },
    {
      "cell_type": "code",
      "source": [
        "def sep_word(list_tokens):\n",
        "    list_word = []\n",
        "    for token in list_tokens:\n",
        "        if token.isalpha():\n",
        "            list_word.append(token)\n",
        "    return list_word\n",
        "\n",
        "sep_word(part_words)"
      ],
      "metadata": {
        "id": "xrCFLWrt_FXU",
        "colab": {
          "base_uri": "https://localhost:8080/"
        },
        "outputId": "bf53ff77-feb0-4a61-cc4f-2fc8fc08fbd9"
      },
      "execution_count": 14,
      "outputs": [
        {
          "output_type": "execute_result",
          "data": {
            "text/plain": [
              "['ola', 'tudo', 'bem']"
            ]
          },
          "metadata": {},
          "execution_count": 14
        }
      ]
    },
    {
      "cell_type": "code",
      "source": [
        "list_tokens = nltk.tokenize.word_tokenize(artigos)\n",
        "list_word = sep_word(list_tokens)\n",
        "print('o numero de palavra eh: ', len(list_word))"
      ],
      "metadata": {
        "id": "-L1jt6opBomp",
        "colab": {
          "base_uri": "https://localhost:8080/"
        },
        "outputId": "502b1a56-13e6-4cf7-f517-781b8cb320fb"
      },
      "execution_count": 15,
      "outputs": [
        {
          "output_type": "stream",
          "name": "stdout",
          "text": [
            "o numero de palavra eh:  403031\n"
          ]
        }
      ]
    },
    {
      "cell_type": "code",
      "source": [
        "def normalization(list_word):\n",
        "  list_normalization = []\n",
        "  for word in list_word:\n",
        "    list_normalization.append(word.lower())\n",
        "  return list_normalization\n",
        "\n",
        "list_normie = normalization(list_word)\n",
        "print(list_normie[:500])"
      ],
      "metadata": {
        "id": "jO3sU-iiHUb5",
        "colab": {
          "base_uri": "https://localhost:8080/"
        },
        "outputId": "cf741957-34ef-48d9-bf39-4d7667c41a95"
      },
      "execution_count": 16,
      "outputs": [
        {
          "output_type": "stream",
          "name": "stdout",
          "text": [
            "['imagem', 'temos', 'a', 'seguinte', 'classe', 'que', 'representa', 'um', 'usuário', 'no', 'nosso', 'sistema', 'java', 'para', 'salvar', 'um', 'novo', 'usuário', 'várias', 'validações', 'são', 'feitas', 'como', 'por', 'exemplo', 'ver', 'se', 'o', 'nome', 'só', 'contém', 'letras', 'o', 'cpf', 'só', 'números', 'e', 'ver', 'se', 'o', 'usuário', 'possui', 'no', 'mínimo', 'anos', 'veja', 'o', 'método', 'que', 'faz', 'essa', 'validação', 'java', 'suponha', 'agora', 'que', 'eu', 'tenha', 'outra', 'classe', 'a', 'classe', 'produto', 'que', 'contém', 'um', 'atributo', 'nome', 'e', 'eu', 'quero', 'fazer', 'a', 'mesma', 'validação', 'que', 'fiz', 'para', 'o', 'nome', 'do', 'usuário', 'ver', 'se', 'só', 'contém', 'letras', 'e', 'aí', 'vou', 'criar', 'outro', 'método', 'para', 'fazer', 'a', 'mesma', 'validação', 'ou', 'criar', 'uma', 'interface', 'ou', 'uma', 'classe', 'que', 'tanto', 'usuario', 'quanto', 'produto', 'estendem', 'não', 'faz', 'muito', 'sentido', 'né', 'como', 'resolver', 'esse', 'caso', 'sem', 'repetir', 'código', 'anotações', 'no', 'java', 'um', 'novo', 'recurso', 'foi', 'introduzido', 'à', 'linguagem', 'as', 'anotações', 'elas', 'permitem', 'que', 'metadados', 'sejam', 'escritos', 'diretamente', 'no', 'código', 'metadados', 'são', 'por', 'definição', 'dados', 'que', 'fazem', 'referência', 'aos', 'próprios', 'dados', 'para', 'nos', 'ajudar', 'a', 'entender', 'o', 'conceito', 'de', 'metadados', 'vou', 'usar', 'a', 'definição', 'feita', 'pelo', 'autor', 'eduardo', 'guerra', 'no', 'livro', 'componentes', 'reutilizáveis', 'em', 'java', 'com', 'reflexão', 'e', 'anotações', 'contexto', 'da', 'orientação', 'a', 'objetos', 'os', 'metadados', 'são', 'informações', 'sobre', 'do', 'código', 'essas', 'informações', 'podem', 'ser', 'definidas', 'em', 'qualquer', 'meio', 'que', 'o', 'software', 'ou', 'componente', 'as', 'recupere', 'e', 'as', 'utilize', 'para', 'agregar', 'nos', 'elementos', 'do', 'código', 'perceba', 'que', 'por', 'si', 'só', 'anotações', 'não', 'fazem', 'nada', 'elas', 'precisam', 'que', 'a', 'aplicação', 'as', 'recupere', 'e', 'as', 'utilize', 'para', 'que', 'só', 'assim', 'elas', 'consigam', 'nos', 'fornecer', 'algo', 'que', 'possamos', 'usar', 'para', 'realizar', 'alguma', 'tarefa', 'voltando', 'ao', 'nosso', 'problema', 'vamos', 'criar', 'uma', 'anotação', 'para', 'validar', 'a', 'idade', 'mínina', 'do', 'usuário', 'para', 'isso', 'vamos', 'anotar', 'nossa', 'classe', 'java', 'se', 'olharmos', 'nosso', 'código', 'perceberemos', 'que', 'ele', 'não', 'compila', 'pois', 'falta', 'implementarmos', 'a', 'anotação', 'idademinina', 'logo', 'precisamos', 'criar', 'uma', 'nova', 'classe', 'com', 'o', 'nome', 'idademinima', 'java', 'mas', 'pensando', 'bem', 'estamos', 'criando', 'uma', 'classe', 'não', 'estamos', 'portanto', 'a', 'nomenclatura', 'é', 'diferente', 'para', 'uma', 'anotação', 'a', 'forma', 'correta', 'seria', 'java', 'estranho', 'né', 'mas', 'foi', 'o', 'jeito', 'que', 'o', 'pessoal', 'do', 'java', 'fez', 'para', 'falar', 'que', 'esse', 'arquivo', 'se', 'trata', 'de', 'uma', 'anotação', 'agora', 'temos', 'que', 'anotar', 'nossa', 'interface', 'com', 'algumas', 'anotações', 'obrigatórias', 'para', 'que', 'o', 'java', 'entenda', 'onde', 'e', 'quando', 'sua', 'anotação', 'pode', 'ser', 'utilizada', 'sendo', 'elas', 'retention', 'aqui', 'nós', 'falaremos', 'para', 'a', 'nossa', 'aplicação', 'até', 'quando', 'nossa', 'anotação', 'estará', 'disponível', 'target', 'aqui', 'passaremos', 'os', 'elementos', 'que', 'podem', 'ser', 'anotados', 'com', 'essa', 'anotação', 'até', 'onde', 'nossa', 'anotação', 'estará', 'disponível', 'precisamos', 'que', 'ela', 'seja', 'executada', 'quando', 'o', 'usuário', 'enviar', 'os', 'seus', 'dados', 'e', 'isso', 'acontece', 'quando', 'nossa', 'aplicação', 'está', 'rodando', 'logo', 'precisamos', 'dela', 'em', 'tempo', 'de', 'execução', 'java', 'e', 'quem', 'será', 'anotado', 'que', 'elemento', 'faz', 'sentido', 'ser', 'anotado', 'com', 'uma', 'anotação', 'que', 'verifica', 'se', 'o', 'usuário', 'tem', 'idade', 'suficiente', 'um', 'atributo', 'certo', 'logo', 'um', 'java', 'agora', 'que', 'já', 'especificamos', 'o', 'contexto', 'da', 'nossa', 'anotação', 'precisamos', 'falar', 'qual', 'a', 'idade', 'mínima', 'que', 'a', 'nossa', 'anotação', 'deve', 'usar', 'para', 'validar', 'a', 'idade', 'do', 'usuário', 'para', 'isso', 'vamos', 'criar', 'uma', 'propriedade', 'na', 'nossa', 'anotação', 'chamada', 'valor', 'java', 'nossa', 'anotação', 'está']\n"
          ]
        }
      ]
    },
    {
      "cell_type": "code",
      "source": [
        "len(set(list_normie))"
      ],
      "metadata": {
        "id": "-gA3h1KwZBjc",
        "colab": {
          "base_uri": "https://localhost:8080/"
        },
        "outputId": "2fd7d2fa-671b-4685-b6b2-cdb5784b9828"
      },
      "execution_count": 17,
      "outputs": [
        {
          "output_type": "execute_result",
          "data": {
            "text/plain": [
              "18464"
            ]
          },
          "metadata": {},
          "execution_count": 17
        }
      ]
    },
    {
      "cell_type": "code",
      "source": [
        "word_ex = 'lgica'\n",
        "\n",
        "def insert_letters(slices):\n",
        "  new_words = []\n",
        "  littlers = 'abcdefghijklmnopqrstuvwxyzàáâãèéêìíîòóôõùúûç'\n",
        "  for E, D in slices:\n",
        "    for littler in  littlers:\n",
        "      new_words.append(E + littler + D)\n",
        "  return new_words\n",
        "\n",
        "def generator_word(word):\n",
        "  slices = []\n",
        "  for i in range(len(word)+1):\n",
        "    slices.append((word[:i], word[i:]))\n",
        "  generated_words = insert_letters(slices)\n",
        "  return generated_words\n",
        "\n",
        "generated_word = generator_word(word_ex)\n",
        "generated_word"
      ],
      "metadata": {
        "id": "phDn0poyjpqi",
        "colab": {
          "base_uri": "https://localhost:8080/"
        },
        "outputId": "31903f81-a777-460b-8f4e-5768fbd11fc9"
      },
      "execution_count": 18,
      "outputs": [
        {
          "output_type": "execute_result",
          "data": {
            "text/plain": [
              "['algica',\n",
              " 'blgica',\n",
              " 'clgica',\n",
              " 'dlgica',\n",
              " 'elgica',\n",
              " 'flgica',\n",
              " 'glgica',\n",
              " 'hlgica',\n",
              " 'ilgica',\n",
              " 'jlgica',\n",
              " 'klgica',\n",
              " 'llgica',\n",
              " 'mlgica',\n",
              " 'nlgica',\n",
              " 'olgica',\n",
              " 'plgica',\n",
              " 'qlgica',\n",
              " 'rlgica',\n",
              " 'slgica',\n",
              " 'tlgica',\n",
              " 'ulgica',\n",
              " 'vlgica',\n",
              " 'wlgica',\n",
              " 'xlgica',\n",
              " 'ylgica',\n",
              " 'zlgica',\n",
              " 'àlgica',\n",
              " 'álgica',\n",
              " 'âlgica',\n",
              " 'ãlgica',\n",
              " 'èlgica',\n",
              " 'élgica',\n",
              " 'êlgica',\n",
              " 'ìlgica',\n",
              " 'ílgica',\n",
              " 'îlgica',\n",
              " 'òlgica',\n",
              " 'ólgica',\n",
              " 'ôlgica',\n",
              " 'õlgica',\n",
              " 'ùlgica',\n",
              " 'úlgica',\n",
              " 'ûlgica',\n",
              " 'çlgica',\n",
              " 'lagica',\n",
              " 'lbgica',\n",
              " 'lcgica',\n",
              " 'ldgica',\n",
              " 'legica',\n",
              " 'lfgica',\n",
              " 'lggica',\n",
              " 'lhgica',\n",
              " 'ligica',\n",
              " 'ljgica',\n",
              " 'lkgica',\n",
              " 'llgica',\n",
              " 'lmgica',\n",
              " 'lngica',\n",
              " 'logica',\n",
              " 'lpgica',\n",
              " 'lqgica',\n",
              " 'lrgica',\n",
              " 'lsgica',\n",
              " 'ltgica',\n",
              " 'lugica',\n",
              " 'lvgica',\n",
              " 'lwgica',\n",
              " 'lxgica',\n",
              " 'lygica',\n",
              " 'lzgica',\n",
              " 'làgica',\n",
              " 'lágica',\n",
              " 'lâgica',\n",
              " 'lãgica',\n",
              " 'lègica',\n",
              " 'légica',\n",
              " 'lêgica',\n",
              " 'lìgica',\n",
              " 'lígica',\n",
              " 'lîgica',\n",
              " 'lògica',\n",
              " 'lógica',\n",
              " 'lôgica',\n",
              " 'lõgica',\n",
              " 'lùgica',\n",
              " 'lúgica',\n",
              " 'lûgica',\n",
              " 'lçgica',\n",
              " 'lgaica',\n",
              " 'lgbica',\n",
              " 'lgcica',\n",
              " 'lgdica',\n",
              " 'lgeica',\n",
              " 'lgfica',\n",
              " 'lggica',\n",
              " 'lghica',\n",
              " 'lgiica',\n",
              " 'lgjica',\n",
              " 'lgkica',\n",
              " 'lglica',\n",
              " 'lgmica',\n",
              " 'lgnica',\n",
              " 'lgoica',\n",
              " 'lgpica',\n",
              " 'lgqica',\n",
              " 'lgrica',\n",
              " 'lgsica',\n",
              " 'lgtica',\n",
              " 'lguica',\n",
              " 'lgvica',\n",
              " 'lgwica',\n",
              " 'lgxica',\n",
              " 'lgyica',\n",
              " 'lgzica',\n",
              " 'lgàica',\n",
              " 'lgáica',\n",
              " 'lgâica',\n",
              " 'lgãica',\n",
              " 'lgèica',\n",
              " 'lgéica',\n",
              " 'lgêica',\n",
              " 'lgìica',\n",
              " 'lgíica',\n",
              " 'lgîica',\n",
              " 'lgòica',\n",
              " 'lgóica',\n",
              " 'lgôica',\n",
              " 'lgõica',\n",
              " 'lgùica',\n",
              " 'lgúica',\n",
              " 'lgûica',\n",
              " 'lgçica',\n",
              " 'lgiaca',\n",
              " 'lgibca',\n",
              " 'lgicca',\n",
              " 'lgidca',\n",
              " 'lgieca',\n",
              " 'lgifca',\n",
              " 'lgigca',\n",
              " 'lgihca',\n",
              " 'lgiica',\n",
              " 'lgijca',\n",
              " 'lgikca',\n",
              " 'lgilca',\n",
              " 'lgimca',\n",
              " 'lginca',\n",
              " 'lgioca',\n",
              " 'lgipca',\n",
              " 'lgiqca',\n",
              " 'lgirca',\n",
              " 'lgisca',\n",
              " 'lgitca',\n",
              " 'lgiuca',\n",
              " 'lgivca',\n",
              " 'lgiwca',\n",
              " 'lgixca',\n",
              " 'lgiyca',\n",
              " 'lgizca',\n",
              " 'lgiàca',\n",
              " 'lgiáca',\n",
              " 'lgiâca',\n",
              " 'lgiãca',\n",
              " 'lgièca',\n",
              " 'lgiéca',\n",
              " 'lgiêca',\n",
              " 'lgiìca',\n",
              " 'lgiíca',\n",
              " 'lgiîca',\n",
              " 'lgiòca',\n",
              " 'lgióca',\n",
              " 'lgiôca',\n",
              " 'lgiõca',\n",
              " 'lgiùca',\n",
              " 'lgiúca',\n",
              " 'lgiûca',\n",
              " 'lgiçca',\n",
              " 'lgicaa',\n",
              " 'lgicba',\n",
              " 'lgicca',\n",
              " 'lgicda',\n",
              " 'lgicea',\n",
              " 'lgicfa',\n",
              " 'lgicga',\n",
              " 'lgicha',\n",
              " 'lgicia',\n",
              " 'lgicja',\n",
              " 'lgicka',\n",
              " 'lgicla',\n",
              " 'lgicma',\n",
              " 'lgicna',\n",
              " 'lgicoa',\n",
              " 'lgicpa',\n",
              " 'lgicqa',\n",
              " 'lgicra',\n",
              " 'lgicsa',\n",
              " 'lgicta',\n",
              " 'lgicua',\n",
              " 'lgicva',\n",
              " 'lgicwa',\n",
              " 'lgicxa',\n",
              " 'lgicya',\n",
              " 'lgicza',\n",
              " 'lgicàa',\n",
              " 'lgicáa',\n",
              " 'lgicâa',\n",
              " 'lgicãa',\n",
              " 'lgicèa',\n",
              " 'lgicéa',\n",
              " 'lgicêa',\n",
              " 'lgicìa',\n",
              " 'lgicía',\n",
              " 'lgicîa',\n",
              " 'lgicòa',\n",
              " 'lgicóa',\n",
              " 'lgicôa',\n",
              " 'lgicõa',\n",
              " 'lgicùa',\n",
              " 'lgicúa',\n",
              " 'lgicûa',\n",
              " 'lgicça',\n",
              " 'lgicaa',\n",
              " 'lgicab',\n",
              " 'lgicac',\n",
              " 'lgicad',\n",
              " 'lgicae',\n",
              " 'lgicaf',\n",
              " 'lgicag',\n",
              " 'lgicah',\n",
              " 'lgicai',\n",
              " 'lgicaj',\n",
              " 'lgicak',\n",
              " 'lgical',\n",
              " 'lgicam',\n",
              " 'lgican',\n",
              " 'lgicao',\n",
              " 'lgicap',\n",
              " 'lgicaq',\n",
              " 'lgicar',\n",
              " 'lgicas',\n",
              " 'lgicat',\n",
              " 'lgicau',\n",
              " 'lgicav',\n",
              " 'lgicaw',\n",
              " 'lgicax',\n",
              " 'lgicay',\n",
              " 'lgicaz',\n",
              " 'lgicaà',\n",
              " 'lgicaá',\n",
              " 'lgicaâ',\n",
              " 'lgicaã',\n",
              " 'lgicaè',\n",
              " 'lgicaé',\n",
              " 'lgicaê',\n",
              " 'lgicaì',\n",
              " 'lgicaí',\n",
              " 'lgicaî',\n",
              " 'lgicaò',\n",
              " 'lgicaó',\n",
              " 'lgicaô',\n",
              " 'lgicaõ',\n",
              " 'lgicaù',\n",
              " 'lgicaú',\n",
              " 'lgicaû',\n",
              " 'lgicaç']"
            ]
          },
          "metadata": {},
          "execution_count": 18
        }
      ]
    },
    {
      "cell_type": "code",
      "source": [
        "def corrector(word):\n",
        "  generated_words = generator_word(word)\n",
        "  word_correct = max(generated_words, key=odds)\n",
        "  return word_correct"
      ],
      "metadata": {
        "id": "zInzQMtXnfF0"
      },
      "execution_count": 19,
      "outputs": []
    },
    {
      "cell_type": "code",
      "source": [
        "frequency = nltk.FreqDist(list_normie)\n",
        "total_words = len(list_normie)\n",
        "frequency.most_common(10)"
      ],
      "metadata": {
        "id": "eS4Ml075sfKn",
        "colab": {
          "base_uri": "https://localhost:8080/"
        },
        "outputId": "3b84160f-3b83-40ba-c6ae-0665075b38b3"
      },
      "execution_count": 20,
      "outputs": [
        {
          "output_type": "execute_result",
          "data": {
            "text/plain": [
              "[('de', 15502),\n",
              " ('o', 14056),\n",
              " ('que', 12230),\n",
              " ('a', 11099),\n",
              " ('e', 10501),\n",
              " ('para', 7710),\n",
              " ('um', 6367),\n",
              " ('é', 5899),\n",
              " ('uma', 5220),\n",
              " ('do', 5124)]"
            ]
          },
          "metadata": {},
          "execution_count": 20
        }
      ]
    },
    {
      "cell_type": "code",
      "source": [
        "frequency['valor']"
      ],
      "metadata": {
        "id": "kcSs-qmjtKXw",
        "colab": {
          "base_uri": "https://localhost:8080/"
        },
        "outputId": "6fef8363-e57b-4d56-ad00-6a2510fd941b"
      },
      "execution_count": 21,
      "outputs": [
        {
          "output_type": "execute_result",
          "data": {
            "text/plain": [
              "580"
            ]
          },
          "metadata": {},
          "execution_count": 21
        }
      ]
    },
    {
      "cell_type": "code",
      "source": [
        "def odds(generated_words):\n",
        "  return (frequency[generated_words]/total_words)\n",
        "\n",
        "odds('nonca')"
      ],
      "metadata": {
        "id": "9joR5WkgtQdg",
        "colab": {
          "base_uri": "https://localhost:8080/"
        },
        "outputId": "e88e77f5-e6bd-42ea-fe6a-9144a5529bc0"
      },
      "execution_count": 22,
      "outputs": [
        {
          "output_type": "execute_result",
          "data": {
            "text/plain": [
              "0.0"
            ]
          },
          "metadata": {},
          "execution_count": 22
        }
      ]
    },
    {
      "cell_type": "code",
      "source": [
        "def create_test_data(nome_arq):\n",
        "  list_word_test = []\n",
        "  f = open(nome_arq, 'r')\n",
        "  for row in f:\n",
        "    correct, wrong = row.split()\n",
        "    list_word_test.append((correct, wrong))\n",
        "  f.close()\n",
        "  return list_word_test\n",
        "\n",
        "list_test = create_test_data('palavras.txt')\n",
        "list_test"
      ],
      "metadata": {
        "id": "pMQOhjZ7zcuo"
      },
      "execution_count": null,
      "outputs": []
    },
    {
      "cell_type": "code",
      "source": [
        "def evaluator(test):\n",
        "  n = len(test)\n",
        "  hit = 0\n",
        "  for correct, wrong in test:\n",
        "    corrected_word =  corrector(wrong)\n",
        "    if corrected_word == correct:\n",
        "      hit += 1\n",
        "  rate_hit = round(hit*100/n, 2)\n",
        "  print(f'{rate_hit}% de {n} palavras')\n",
        "\n",
        "evaluator(list_test)"
      ],
      "metadata": {
        "colab": {
          "base_uri": "https://localhost:8080/"
        },
        "id": "KaXvUe1o1z_r",
        "outputId": "887eed27-0723-4f41-dcb4-1626ce9b1d7a"
      },
      "execution_count": 24,
      "outputs": [
        {
          "output_type": "stream",
          "name": "stdout",
          "text": [
            "1.08% de 186 palavras\n"
          ]
        }
      ]
    },
    {
      "cell_type": "code",
      "source": [
        "def dell_char(slices):\n",
        "  new_words = []\n",
        "  for E, D in slices:\n",
        "      new_words.append(E + D[1:])\n",
        "  return new_words"
      ],
      "metadata": {
        "id": "2ioH08HN3zLv"
      },
      "execution_count": 32,
      "outputs": []
    },
    {
      "cell_type": "code",
      "source": [
        "def generator_word(word):\n",
        "  slices = []\n",
        "  for i in range(len(word)+1):\n",
        "    slices.append((word[:i], word[i:]))\n",
        "  generated_words = insert_letters(slices)\n",
        "  generated_words += dell_char(slices)\n",
        "  return generated_words\n",
        "ex='garrrafa'\n",
        "generated_word = generator_word(ex)\n",
        "generated_word"
      ],
      "metadata": {
        "id": "MpbR1xRYys5c"
      },
      "execution_count": null,
      "outputs": []
    },
    {
      "cell_type": "code",
      "source": [
        "evaluator(list_test)"
      ],
      "metadata": {
        "colab": {
          "base_uri": "https://localhost:8080/"
        },
        "id": "HkCf5WbozmUg",
        "outputId": "3a192bf2-a7fd-45f3-f612-6dbf78f1f904"
      },
      "execution_count": 34,
      "outputs": [
        {
          "output_type": "stream",
          "name": "stdout",
          "text": [
            "41.4% de 186 palavras\n"
          ]
        }
      ]
    },
    {
      "cell_type": "code",
      "source": [
        " "
      ],
      "metadata": {
        "id": "lysmtj850i_F"
      },
      "execution_count": null,
      "outputs": []
    }
  ]
}